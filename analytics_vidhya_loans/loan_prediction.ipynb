{
 "cells": [
  {
   "cell_type": "code",
   "execution_count": 1,
   "metadata": {},
   "outputs": [],
   "source": [
    "import pandas as pd\n",
    "from sklearn.preprocessing import MinMaxScaler\n",
    "df = pd.read_csv('loans.csv')\n",
    "df.loc[df.Gender == 'Male', 'Gender'] = 1\n",
    "df.loc[df.Gender == 'Female', 'Gender'] = 2\n",
    "df.loc[df.Married == 'No', 'Married'] = 0\n",
    "df.loc[df.Married == 'Yes', 'Married'] = 1\n",
    "df.loc[df.Dependents == '3+', 'Dependents'] = 4\n",
    "df.loc[df.Education == 'Graduate', 'Education'] = 1\n",
    "df.loc[df.Education == 'Not Graduate', 'Education'] = 0\n",
    "df.loc[df.Self_Employed == 'No', 'Self_Employed'] = 0\n",
    "df.loc[df.Self_Employed == 'Yes', 'Self_Employed'] = 1\n",
    "df.loc[df.Property_Area == 'Urban', 'Property_Area'] = 1\n",
    "df.loc[df.Property_Area == 'Rural', 'Property_Area'] = 2\n",
    "df.loc[df.Property_Area == 'Semiurban', 'Property_Area'] = 3\n",
    "df['Self_Employed'].fillna(0, inplace=True)\n",
    "df['Dependents'].fillna(0, inplace=True)\n",
    "df['Dependents'] = pd.to_numeric(df['Dependents'].fillna(0))\n",
    "\n",
    "x = df[['ApplicantIncome']].values.astype(float)\n",
    "x_scaled = MinMaxScaler().fit_transform(x)\n",
    "df[['ApplicantIncome']] = x_scaled\n",
    "\n",
    "x = df[['CoapplicantIncome']].values.astype(float)\n",
    "x_scaled = MinMaxScaler().fit_transform(x)\n",
    "df[['CoapplicantIncome']] = x_scaled\n",
    "\n",
    "x = df[['LoanAmount']].values.astype(float)\n",
    "x_scaled = MinMaxScaler().fit_transform(x)\n",
    "df[['LoanAmount']] = x_scaled\n",
    "\n",
    "x = df[['Loan_Amount_Term']].values.astype(float)\n",
    "x_scaled = MinMaxScaler().fit_transform(x)\n",
    "df[['Loan_Amount_Term']] = x_scaled"
   ]
  },
  {
   "cell_type": "code",
   "execution_count": 2,
   "metadata": {},
   "outputs": [
    {
     "name": "stdout",
     "output_type": "stream",
     "text": [
      "Checking whether there is an H2O instance running at http://localhost:54321..... not found.\n",
      "Attempting to start a local H2O server...\n",
      "  Java Version: openjdk version \"10.0.2\" 2018-07-17; OpenJDK Runtime Environment (build 10.0.2+13-Ubuntu-1ubuntu0.18.04.4); OpenJDK 64-Bit Server VM (build 10.0.2+13-Ubuntu-1ubuntu0.18.04.4, mixed mode)\n",
      "  Starting server from /home/edhiraj/.miniconda/envs/kaggle/lib/python3.6/site-packages/h2o/backend/bin/h2o.jar\n",
      "  Ice root: /tmp/tmpniwezne0\n",
      "  JVM stdout: /tmp/tmpniwezne0/h2o_edhiraj_started_from_python.out\n",
      "  JVM stderr: /tmp/tmpniwezne0/h2o_edhiraj_started_from_python.err\n",
      "  Server is running at http://127.0.0.1:54321\n",
      "Connecting to H2O server at http://127.0.0.1:54321... successful.\n"
     ]
    },
    {
     "data": {
      "text/html": [
       "<div style=\"overflow:auto\"><table style=\"width:50%\"><tr><td>H2O cluster uptime:</td>\n",
       "<td>01 secs</td></tr>\n",
       "<tr><td>H2O cluster timezone:</td>\n",
       "<td>Asia/Kolkata</td></tr>\n",
       "<tr><td>H2O data parsing timezone:</td>\n",
       "<td>UTC</td></tr>\n",
       "<tr><td>H2O cluster version:</td>\n",
       "<td>3.22.0.2</td></tr>\n",
       "<tr><td>H2O cluster version age:</td>\n",
       "<td>2 months and 7 days </td></tr>\n",
       "<tr><td>H2O cluster name:</td>\n",
       "<td>H2O_from_python_edhiraj_n863ae</td></tr>\n",
       "<tr><td>H2O cluster total nodes:</td>\n",
       "<td>1</td></tr>\n",
       "<tr><td>H2O cluster free memory:</td>\n",
       "<td>1.930 Gb</td></tr>\n",
       "<tr><td>H2O cluster total cores:</td>\n",
       "<td>4</td></tr>\n",
       "<tr><td>H2O cluster allowed cores:</td>\n",
       "<td>4</td></tr>\n",
       "<tr><td>H2O cluster status:</td>\n",
       "<td>accepting new members, healthy</td></tr>\n",
       "<tr><td>H2O connection url:</td>\n",
       "<td>http://127.0.0.1:54321</td></tr>\n",
       "<tr><td>H2O connection proxy:</td>\n",
       "<td>None</td></tr>\n",
       "<tr><td>H2O internal security:</td>\n",
       "<td>False</td></tr>\n",
       "<tr><td>H2O API Extensions:</td>\n",
       "<td>XGBoost, Algos, AutoML, Core V3, Core V4</td></tr>\n",
       "<tr><td>Python version:</td>\n",
       "<td>3.6.7 final</td></tr></table></div>"
      ],
      "text/plain": [
       "--------------------------  ----------------------------------------\n",
       "H2O cluster uptime:         01 secs\n",
       "H2O cluster timezone:       Asia/Kolkata\n",
       "H2O data parsing timezone:  UTC\n",
       "H2O cluster version:        3.22.0.2\n",
       "H2O cluster version age:    2 months and 7 days\n",
       "H2O cluster name:           H2O_from_python_edhiraj_n863ae\n",
       "H2O cluster total nodes:    1\n",
       "H2O cluster free memory:    1.930 Gb\n",
       "H2O cluster total cores:    4\n",
       "H2O cluster allowed cores:  4\n",
       "H2O cluster status:         accepting new members, healthy\n",
       "H2O connection url:         http://127.0.0.1:54321\n",
       "H2O connection proxy:\n",
       "H2O internal security:      False\n",
       "H2O API Extensions:         XGBoost, Algos, AutoML, Core V3, Core V4\n",
       "Python version:             3.6.7 final\n",
       "--------------------------  ----------------------------------------"
      ]
     },
     "metadata": {},
     "output_type": "display_data"
    }
   ],
   "source": [
    "import h2o\n",
    "from h2o.automl import H2OAutoML\n",
    "h2o.init()"
   ]
  },
  {
   "cell_type": "code",
   "execution_count": 3,
   "metadata": {},
   "outputs": [
    {
     "name": "stdout",
     "output_type": "stream",
     "text": [
      "Parse progress: |█████████████████████████████████████████████████████████| 100%\n"
     ]
    }
   ],
   "source": [
    "data = h2o.H2OFrame(df)"
   ]
  },
  {
   "cell_type": "code",
   "execution_count": 4,
   "metadata": {},
   "outputs": [],
   "source": [
    "# Input parameters that are going to train\n",
    "training_columns = ['Gender', 'Married', 'Dependents', 'Education', 'Self_Employed', 'ApplicantIncome', 'CoapplicantIncome', 'LoanAmount', 'Loan_Amount_Term', 'Credit_History', 'Property_Area']\n",
    "# Output parameter train against input parameters\n",
    "response_column = 'Loan_Status'"
   ]
  },
  {
   "cell_type": "code",
   "execution_count": 5,
   "metadata": {},
   "outputs": [],
   "source": [
    "# Split data into train and testing\n",
    "train, test = data.split_frame(ratios=[0.7])"
   ]
  },
  {
   "cell_type": "code",
   "execution_count": 6,
   "metadata": {},
   "outputs": [
    {
     "name": "stdout",
     "output_type": "stream",
     "text": [
      "AutoML progress: |████████████████████████████████████████████████████████| 100%\n"
     ]
    }
   ],
   "source": [
    "aml = H2OAutoML(max_models=20, seed=1)\n",
    "aml.train(x=training_columns, y=response_column, training_frame=train)"
   ]
  },
  {
   "cell_type": "code",
   "execution_count": 7,
   "metadata": {},
   "outputs": [
    {
     "data": {
      "text/html": [
       "<table>\n",
       "<thead>\n",
       "<tr><th>model_id                                           </th><th style=\"text-align: right;\">     auc</th><th style=\"text-align: right;\">  logloss</th><th style=\"text-align: right;\">  mean_per_class_error</th><th style=\"text-align: right;\">    rmse</th><th style=\"text-align: right;\">     mse</th></tr>\n",
       "</thead>\n",
       "<tbody>\n",
       "<tr><td>XGBoost_grid_1_AutoML_20190129_185651_model_2      </td><td style=\"text-align: right;\">0.799815</td><td style=\"text-align: right;\"> 0.474326</td><td style=\"text-align: right;\">              0.277737</td><td style=\"text-align: right;\">0.383357</td><td style=\"text-align: right;\">0.146963</td></tr>\n",
       "<tr><td>GBM_3_AutoML_20190129_185651                       </td><td style=\"text-align: right;\">0.79548 </td><td style=\"text-align: right;\"> 0.466873</td><td style=\"text-align: right;\">              0.28607 </td><td style=\"text-align: right;\">0.381628</td><td style=\"text-align: right;\">0.14564 </td></tr>\n",
       "<tr><td>GBM_4_AutoML_20190129_185651                       </td><td style=\"text-align: right;\">0.795387</td><td style=\"text-align: right;\"> 0.466198</td><td style=\"text-align: right;\">              0.281903</td><td style=\"text-align: right;\">0.381471</td><td style=\"text-align: right;\">0.14552 </td></tr>\n",
       "<tr><td>GBM_1_AutoML_20190129_185651                       </td><td style=\"text-align: right;\">0.794834</td><td style=\"text-align: right;\"> 0.472383</td><td style=\"text-align: right;\">              0.290237</td><td style=\"text-align: right;\">0.383731</td><td style=\"text-align: right;\">0.14725 </td></tr>\n",
       "<tr><td>XGBoost_1_AutoML_20190129_185651                   </td><td style=\"text-align: right;\">0.794465</td><td style=\"text-align: right;\"> 0.450169</td><td style=\"text-align: right;\">              0.276368</td><td style=\"text-align: right;\">0.376888</td><td style=\"text-align: right;\">0.142045</td></tr>\n",
       "<tr><td>GBM_grid_1_AutoML_20190129_185651_model_1          </td><td style=\"text-align: right;\">0.793773</td><td style=\"text-align: right;\"> 0.459896</td><td style=\"text-align: right;\">              0.275892</td><td style=\"text-align: right;\">0.381563</td><td style=\"text-align: right;\">0.14559 </td></tr>\n",
       "<tr><td>XGBoost_grid_1_AutoML_20190129_185651_model_1      </td><td style=\"text-align: right;\">0.792866</td><td style=\"text-align: right;\"> 0.452296</td><td style=\"text-align: right;\">              0.276368</td><td style=\"text-align: right;\">0.376562</td><td style=\"text-align: right;\">0.141799</td></tr>\n",
       "<tr><td>GBM_2_AutoML_20190129_185651                       </td><td style=\"text-align: right;\">0.792251</td><td style=\"text-align: right;\"> 0.467875</td><td style=\"text-align: right;\">              0.275415</td><td style=\"text-align: right;\">0.383139</td><td style=\"text-align: right;\">0.146795</td></tr>\n",
       "<tr><td>XGBoost_grid_1_AutoML_20190129_185651_model_4      </td><td style=\"text-align: right;\">0.787192</td><td style=\"text-align: right;\"> 0.452854</td><td style=\"text-align: right;\">              0.276368</td><td style=\"text-align: right;\">0.37778 </td><td style=\"text-align: right;\">0.142717</td></tr>\n",
       "<tr><td>StackedEnsemble_AllModels_AutoML_20190129_185651   </td><td style=\"text-align: right;\">0.78607 </td><td style=\"text-align: right;\"> 0.455847</td><td style=\"text-align: right;\">              0.276368</td><td style=\"text-align: right;\">0.379463</td><td style=\"text-align: right;\">0.143992</td></tr>\n",
       "<tr><td>StackedEnsemble_BestOfFamily_AutoML_20190129_185651</td><td style=\"text-align: right;\">0.780351</td><td style=\"text-align: right;\"> 0.4608  </td><td style=\"text-align: right;\">              0.280535</td><td style=\"text-align: right;\">0.381294</td><td style=\"text-align: right;\">0.145385</td></tr>\n",
       "<tr><td>GBM_grid_1_AutoML_20190129_185651_model_2          </td><td style=\"text-align: right;\">0.780289</td><td style=\"text-align: right;\"> 0.794178</td><td style=\"text-align: right;\">              0.272617</td><td style=\"text-align: right;\">0.419255</td><td style=\"text-align: right;\">0.175775</td></tr>\n",
       "<tr><td>XGBoost_grid_1_AutoML_20190129_185651_model_3      </td><td style=\"text-align: right;\">0.778782</td><td style=\"text-align: right;\"> 0.470926</td><td style=\"text-align: right;\">              0.276368</td><td style=\"text-align: right;\">0.384258</td><td style=\"text-align: right;\">0.147654</td></tr>\n",
       "<tr><td>XRT_1_AutoML_20190129_185651                       </td><td style=\"text-align: right;\">0.774001</td><td style=\"text-align: right;\"> 1.28495 </td><td style=\"text-align: right;\">              0.277737</td><td style=\"text-align: right;\">0.394667</td><td style=\"text-align: right;\">0.155762</td></tr>\n",
       "<tr><td>XGBoost_2_AutoML_20190129_185651                   </td><td style=\"text-align: right;\">0.772648</td><td style=\"text-align: right;\"> 0.470557</td><td style=\"text-align: right;\">              0.276368</td><td style=\"text-align: right;\">0.384361</td><td style=\"text-align: right;\">0.147733</td></tr>\n",
       "<tr><td>DRF_1_AutoML_20190129_185651                       </td><td style=\"text-align: right;\">0.769649</td><td style=\"text-align: right;\"> 1.14081 </td><td style=\"text-align: right;\">              0.286485</td><td style=\"text-align: right;\">0.400095</td><td style=\"text-align: right;\">0.160076</td></tr>\n",
       "<tr><td>DeepLearning_grid_1_AutoML_20190129_185651_model_1 </td><td style=\"text-align: right;\">0.745357</td><td style=\"text-align: right;\"> 0.604568</td><td style=\"text-align: right;\">              0.299047</td><td style=\"text-align: right;\">0.416886</td><td style=\"text-align: right;\">0.173794</td></tr>\n",
       "<tr><td>GLM_grid_1_AutoML_20190129_185651_model_1          </td><td style=\"text-align: right;\">0.738961</td><td style=\"text-align: right;\"> 0.470899</td><td style=\"text-align: right;\">              0.276368</td><td style=\"text-align: right;\">0.384368</td><td style=\"text-align: right;\">0.147739</td></tr>\n",
       "<tr><td>DeepLearning_1_AutoML_20190129_185651              </td><td style=\"text-align: right;\">0.735025</td><td style=\"text-align: right;\"> 0.520159</td><td style=\"text-align: right;\">              0.27214 </td><td style=\"text-align: right;\">0.404048</td><td style=\"text-align: right;\">0.163254</td></tr>\n",
       "<tr><td>DeepLearning_grid_1_AutoML_20190129_185651_model_2 </td><td style=\"text-align: right;\">0.73321 </td><td style=\"text-align: right;\"> 0.531869</td><td style=\"text-align: right;\">              0.290237</td><td style=\"text-align: right;\">0.401496</td><td style=\"text-align: right;\">0.161199</td></tr>\n",
       "<tr><td>XGBoost_3_AutoML_20190129_185651                   </td><td style=\"text-align: right;\">0.729336</td><td style=\"text-align: right;\"> 0.557243</td><td style=\"text-align: right;\">              0.332734</td><td style=\"text-align: right;\">0.431755</td><td style=\"text-align: right;\">0.186413</td></tr>\n",
       "<tr><td>GBM_5_AutoML_20190129_185651                       </td><td style=\"text-align: right;\">0.588576</td><td style=\"text-align: right;\"> 0.606418</td><td style=\"text-align: right;\">              0.5     </td><td style=\"text-align: right;\">0.456551</td><td style=\"text-align: right;\">0.208439</td></tr>\n",
       "</tbody>\n",
       "</table>"
      ]
     },
     "metadata": {},
     "output_type": "display_data"
    },
    {
     "data": {
      "text/plain": []
     },
     "execution_count": 7,
     "metadata": {},
     "output_type": "execute_result"
    }
   ],
   "source": [
    "lb = aml.leaderboard\n",
    "lb.head(rows=lb.nrows)"
   ]
  },
  {
   "cell_type": "code",
   "execution_count": 8,
   "metadata": {},
   "outputs": [
    {
     "name": "stdout",
     "output_type": "stream",
     "text": [
      "xgboost prediction progress: |████████████████████████████████████████████| 100%\n",
      "xgboost prediction progress: |████████████████████████████████████████████| 100%\n"
     ]
    }
   ],
   "source": [
    "# The leader model is stored here\n",
    "aml.leader\n",
    "\n",
    "# If you need to generate predictions on a test set, you can make\n",
    "# predictions directly on the `\"H2OAutoML\"` object, or on the leader\n",
    "# model object directly\n",
    "\n",
    "preds = aml.predict(test)\n",
    "\n",
    "# or:\n",
    "preds = aml.leader.predict(test)"
   ]
  },
  {
   "cell_type": "code",
   "execution_count": 9,
   "metadata": {},
   "outputs": [
    {
     "data": {
      "text/html": [
       "<table>\n",
       "<thead>\n",
       "<tr><th>predict  </th><th style=\"text-align: right;\">        N</th><th style=\"text-align: right;\">        Y</th></tr>\n",
       "</thead>\n",
       "<tbody>\n",
       "<tr><td>Y        </td><td style=\"text-align: right;\">0.0238944</td><td style=\"text-align: right;\">0.976106 </td></tr>\n",
       "<tr><td>Y        </td><td style=\"text-align: right;\">0.071427 </td><td style=\"text-align: right;\">0.928573 </td></tr>\n",
       "<tr><td>Y        </td><td style=\"text-align: right;\">0.0265313</td><td style=\"text-align: right;\">0.973469 </td></tr>\n",
       "<tr><td>Y        </td><td style=\"text-align: right;\">0.48699  </td><td style=\"text-align: right;\">0.51301  </td></tr>\n",
       "<tr><td>Y        </td><td style=\"text-align: right;\">0.472061 </td><td style=\"text-align: right;\">0.527939 </td></tr>\n",
       "<tr><td>Y        </td><td style=\"text-align: right;\">0.0835148</td><td style=\"text-align: right;\">0.916485 </td></tr>\n",
       "<tr><td>N        </td><td style=\"text-align: right;\">0.912208 </td><td style=\"text-align: right;\">0.0877915</td></tr>\n",
       "<tr><td>N        </td><td style=\"text-align: right;\">0.94325  </td><td style=\"text-align: right;\">0.0567496</td></tr>\n",
       "<tr><td>Y        </td><td style=\"text-align: right;\">0.0320019</td><td style=\"text-align: right;\">0.967998 </td></tr>\n",
       "<tr><td>Y        </td><td style=\"text-align: right;\">0.0362345</td><td style=\"text-align: right;\">0.963766 </td></tr>\n",
       "</tbody>\n",
       "</table>"
      ]
     },
     "metadata": {},
     "output_type": "display_data"
    },
    {
     "data": {
      "text/plain": []
     },
     "execution_count": 9,
     "metadata": {},
     "output_type": "execute_result"
    }
   ],
   "source": [
    "preds"
   ]
  },
  {
   "cell_type": "code",
   "execution_count": 10,
   "metadata": {},
   "outputs": [
    {
     "data": {
      "text/html": [
       "<table>\n",
       "<thead>\n",
       "<tr><th>Loan_ID  </th><th style=\"text-align: right;\">  Gender</th><th style=\"text-align: right;\">  Married</th><th style=\"text-align: right;\">  Dependents</th><th style=\"text-align: right;\">  Education</th><th style=\"text-align: right;\">  Self_Employed</th><th style=\"text-align: right;\">  ApplicantIncome</th><th style=\"text-align: right;\">  CoapplicantIncome</th><th style=\"text-align: right;\">  LoanAmount</th><th style=\"text-align: right;\">  Loan_Amount_Term</th><th style=\"text-align: right;\">  Credit_History</th><th style=\"text-align: right;\">  Property_Area</th><th>Loan_Status  </th></tr>\n",
       "</thead>\n",
       "<tbody>\n",
       "<tr><td>LP001006 </td><td style=\"text-align: right;\">       1</td><td style=\"text-align: right;\">        1</td><td style=\"text-align: right;\">           0</td><td style=\"text-align: right;\">          0</td><td style=\"text-align: right;\">              0</td><td style=\"text-align: right;\">        0.0300928</td><td style=\"text-align: right;\">          0.0565915</td><td style=\"text-align: right;\">   0.160637 </td><td style=\"text-align: right;\">          0.74359 </td><td style=\"text-align: right;\">               1</td><td style=\"text-align: right;\">              1</td><td>Y            </td></tr>\n",
       "<tr><td>LP001024 </td><td style=\"text-align: right;\">       1</td><td style=\"text-align: right;\">        1</td><td style=\"text-align: right;\">           2</td><td style=\"text-align: right;\">          1</td><td style=\"text-align: right;\">              0</td><td style=\"text-align: right;\">        0.0377242</td><td style=\"text-align: right;\">          0.0167999</td><td style=\"text-align: right;\">   0.0882779</td><td style=\"text-align: right;\">          0.74359 </td><td style=\"text-align: right;\">               1</td><td style=\"text-align: right;\">              1</td><td>Y            </td></tr>\n",
       "<tr><td>LP001027 </td><td style=\"text-align: right;\">       1</td><td style=\"text-align: right;\">        1</td><td style=\"text-align: right;\">           2</td><td style=\"text-align: right;\">          1</td><td style=\"text-align: right;\">              0</td><td style=\"text-align: right;\">        0.0290662</td><td style=\"text-align: right;\">          0.0441596</td><td style=\"text-align: right;\">   0.144718 </td><td style=\"text-align: right;\">          0.74359 </td><td style=\"text-align: right;\">               1</td><td style=\"text-align: right;\">              1</td><td>Y            </td></tr>\n",
       "<tr><td>LP001030 </td><td style=\"text-align: right;\">       1</td><td style=\"text-align: right;\">        1</td><td style=\"text-align: right;\">           2</td><td style=\"text-align: right;\">          1</td><td style=\"text-align: right;\">              0</td><td style=\"text-align: right;\">        0.0142115</td><td style=\"text-align: right;\">          0.0260638</td><td style=\"text-align: right;\">   0.0115774</td><td style=\"text-align: right;\">          0.230769</td><td style=\"text-align: right;\">               1</td><td style=\"text-align: right;\">              1</td><td>Y            </td></tr>\n",
       "<tr><td>LP001034 </td><td style=\"text-align: right;\">       1</td><td style=\"text-align: right;\">        0</td><td style=\"text-align: right;\">           1</td><td style=\"text-align: right;\">          0</td><td style=\"text-align: right;\">              0</td><td style=\"text-align: right;\">        0.0426221</td><td style=\"text-align: right;\">          0        </td><td style=\"text-align: right;\">   0.131693 </td><td style=\"text-align: right;\">          0.487179</td><td style=\"text-align: right;\">             nan</td><td style=\"text-align: right;\">              1</td><td>Y            </td></tr>\n",
       "<tr><td>LP001046 </td><td style=\"text-align: right;\">       1</td><td style=\"text-align: right;\">        1</td><td style=\"text-align: right;\">           1</td><td style=\"text-align: right;\">          1</td><td style=\"text-align: right;\">              0</td><td style=\"text-align: right;\">        0.0717996</td><td style=\"text-align: right;\">          0.134999 </td><td style=\"text-align: right;\">   0.442836 </td><td style=\"text-align: right;\">          0.74359 </td><td style=\"text-align: right;\">               1</td><td style=\"text-align: right;\">              1</td><td>Y            </td></tr>\n",
       "<tr><td>LP001047 </td><td style=\"text-align: right;\">       1</td><td style=\"text-align: right;\">        1</td><td style=\"text-align: right;\">           0</td><td style=\"text-align: right;\">          0</td><td style=\"text-align: right;\">              0</td><td style=\"text-align: right;\">        0.030303 </td><td style=\"text-align: right;\">          0.0458636</td><td style=\"text-align: right;\">   0.154848 </td><td style=\"text-align: right;\">          0.74359 </td><td style=\"text-align: right;\">               0</td><td style=\"text-align: right;\">              3</td><td>N            </td></tr>\n",
       "<tr><td>LP001050 </td><td style=\"text-align: right;\">     nan</td><td style=\"text-align: right;\">        1</td><td style=\"text-align: right;\">           2</td><td style=\"text-align: right;\">          0</td><td style=\"text-align: right;\">              0</td><td style=\"text-align: right;\">        0.039765 </td><td style=\"text-align: right;\">          0.0460076</td><td style=\"text-align: right;\">   0.149059 </td><td style=\"text-align: right;\">          0.74359 </td><td style=\"text-align: right;\">               0</td><td style=\"text-align: right;\">              2</td><td>N            </td></tr>\n",
       "<tr><td>LP001052 </td><td style=\"text-align: right;\">       1</td><td style=\"text-align: right;\">        1</td><td style=\"text-align: right;\">           1</td><td style=\"text-align: right;\">          1</td><td style=\"text-align: right;\">              0</td><td style=\"text-align: right;\">        0.0441187</td><td style=\"text-align: right;\">          0.0701994</td><td style=\"text-align: right;\">   0.205499 </td><td style=\"text-align: right;\">          0.74359 </td><td style=\"text-align: right;\">             nan</td><td style=\"text-align: right;\">              3</td><td>N            </td></tr>\n",
       "<tr><td>LP001087 </td><td style=\"text-align: right;\">       2</td><td style=\"text-align: right;\">        0</td><td style=\"text-align: right;\">           2</td><td style=\"text-align: right;\">          1</td><td style=\"text-align: right;\">              0</td><td style=\"text-align: right;\">        0.0445269</td><td style=\"text-align: right;\">          0.0499916</td><td style=\"text-align: right;\">   0.160637 </td><td style=\"text-align: right;\">          0.74359 </td><td style=\"text-align: right;\">               1</td><td style=\"text-align: right;\">              3</td><td>Y            </td></tr>\n",
       "</tbody>\n",
       "</table>"
      ]
     },
     "metadata": {},
     "output_type": "display_data"
    },
    {
     "data": {
      "text/plain": []
     },
     "execution_count": 10,
     "metadata": {},
     "output_type": "execute_result"
    }
   ],
   "source": [
    "test"
   ]
  },
  {
   "cell_type": "code",
   "execution_count": 11,
   "metadata": {},
   "outputs": [
    {
     "data": {
      "text/plain": [
       "0.9677880183174995"
      ]
     },
     "execution_count": 11,
     "metadata": {},
     "output_type": "execute_result"
    }
   ],
   "source": [
    "aml.leader.r2()"
   ]
  },
  {
   "cell_type": "code",
   "execution_count": null,
   "metadata": {},
   "outputs": [],
   "source": []
  }
 ],
 "metadata": {
  "kernelspec": {
   "display_name": "kaggle",
   "language": "python",
   "name": "kaggle"
  },
  "language_info": {
   "codemirror_mode": {
    "name": "ipython",
    "version": 3
   },
   "file_extension": ".py",
   "mimetype": "text/x-python",
   "name": "python",
   "nbconvert_exporter": "python",
   "pygments_lexer": "ipython3",
   "version": "3.6.7"
  }
 },
 "nbformat": 4,
 "nbformat_minor": 2
}
